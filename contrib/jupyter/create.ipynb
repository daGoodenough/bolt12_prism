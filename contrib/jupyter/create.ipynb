{
 "cells": [
  {
   "cell_type": "code",
   "execution_count": 73,
   "id": "66c7d7e1-53cb-4456-80a8-f1af081b7a5b",
   "metadata": {},
   "outputs": [
    {
     "name": "stdout",
     "output_type": "stream",
     "text": [
      "l1's lightning-cli is:  /nix/store/6k1lc1cdj2qamn5nyqzbkr00m5pzr6qg-clightning-v23.11rc1/bin/lightning-cli --lightning-dir=/home/gudnuf/code/bolt12-prism/.lightning_nodes/l1\n",
      "l2's lightning-cli is:  /nix/store/6k1lc1cdj2qamn5nyqzbkr00m5pzr6qg-clightning-v23.11rc1/bin/lightning-cli --lightning-dir=/home/gudnuf/code/bolt12-prism/.lightning_nodes/l2\n"
     ]
    }
   ],
   "source": [
    "from config import l1, l2, l3, l4, l5\n",
    "import json\n",
    "import random\n",
    "import string\n",
    "\n",
    "def generate_random_string(length):\n",
    "    # Create a sequence of all letters and digits\n",
    "    characters = string.ascii_letters + string.digits\n",
    "    # Randomly choose a character from the sequence for the specified length\n",
    "    random_string = ''.join(random.choice(characters) for i in range(length))\n",
    "    return random_string\n",
    "\n",
    "print(\"l1's lightning-cli is: \", l1)\n",
    "print(\"l2's lightning-cli is: \", l2)"
   ]
  },
  {
   "cell_type": "code",
   "execution_count": 83,
   "id": "f2727f12-519f-4a25-9b66-8955d42d8f3a",
   "metadata": {},
   "outputs": [],
   "source": [
    "def create_prism_members():\n",
    "    members = []\n",
    "    clis = [l3, l4, l5]\n",
    "    names = [\"carol {}\".format({generate_random_string(3)}) , \"Dave\", \"erin\"]\n",
    "    for cli, name in zip(clis, names):\n",
    "        get_offer = f'{cli} -k offer amount=any description={generate_random_string(12)}'\n",
    "        offer = !$get_offer | jq -r .bolt12\n",
    "        members.append({\n",
    "            \"name\": name,\n",
    "            \"destination\": offer[0],\n",
    "            \"type\": \"bolt12\",\n",
    "            \"split\": 1\n",
    "        })\n",
    "    return members"
   ]
  },
  {
   "cell_type": "code",
   "execution_count": 75,
   "id": "9888ffd9-4ab7-40d3-9fd9-979240eda650",
   "metadata": {
    "scrolled": true
   },
   "outputs": [
    {
     "data": {
      "text/plain": [
       "{'prism_id': '2072b63d-c422-4db3-9db0-10e223bbe7f8',\n",
       " 'version': 'v0.0.2',\n",
       " 'sdf': 'relative',\n",
       " 'members': [{'name': 'carol',\n",
       "   'destination': 'lno1qgsqvgnwgcg35z6ee2h3yczraddm72xrfua9uve2rlrm9deu7xyfzrc2ps68yuzx23nnz7tddpvrq93pqfx9yx7yz2utew9j8d84p975w4n6fvm0dkqsv4phexzehjkwrt2ry',\n",
       "   'split': 1,\n",
       "   'type': 'bolt12',\n",
       "   'outlay_msat': None,\n",
       "   'fees_incurred_by': 'remote',\n",
       "   'threshold': 0},\n",
       "  {'name': 'Dave',\n",
       "   'destination': 'lno1qgsqvgnwgcg35z6ee2h3yczraddm72xrfua9uve2rlrm9deu7xyfzrc2p368xv6kxg6k2w2c8pc8293pqfuhd5s96s38hl9svuyulalxxq5cz2sd7tz062sfe4chntf3v4v6c',\n",
       "   'split': 1,\n",
       "   'type': 'bolt12',\n",
       "   'outlay_msat': None,\n",
       "   'fees_incurred_by': 'remote',\n",
       "   'threshold': 0},\n",
       "  {'name': 'erin',\n",
       "   'destination': 'lno1qgsqvgnwgcg35z6ee2h3yczraddm72xrfua9uve2rlrm9deu7xyfzrc2p36h2dmx0pqnqepetg6kv93pqfzjd89nwfavtpv7leu0n8dn2jev4cnlfzthv878jwpm022ykavp5',\n",
       "   'split': 1,\n",
       "   'type': 'bolt12',\n",
       "   'outlay_msat': None,\n",
       "   'fees_incurred_by': 'remote',\n",
       "   'threshold': 0}]}"
      ]
     },
     "execution_count": 75,
     "metadata": {},
     "output_type": "execute_result"
    }
   ],
   "source": [
    "prism_members = create_prism_members()\n",
    "#lightning-cli -k prism-create members='[<Member>]'\n",
    "create_prism_command = f'{l2} -k prism-create members=\\'{json.dumps(prism_members)}\\''\n",
    "prism = !$create_prism_command\n",
    "prism = json.loads(''.join(prism))\n",
    "prism"
   ]
  },
  {
   "cell_type": "code",
   "execution_count": 88,
   "id": "5fb87195-8774-4a46-bc39-cd826853298a",
   "metadata": {
    "scrolled": true
   },
   "outputs": [
    {
     "name": "stdout",
     "output_type": "stream",
     "text": [
      "{\n",
      "   \"prism_id\": \"2072b63d-c422-4db3-9db0-10e223bbe7f8\",\n",
      "   \"version\": \"v0.0.2\",\n",
      "   \"sdf\": \"relative\",\n",
      "   \"members\": [\n",
      "      {\n",
      "         \"name\": \"carol {g3N}\",\n",
      "         \"destination\": \"lno1qgsqvgnwgcg35z6ee2h3yczraddm72xrfua9uve2rlrm9deu7xyfzrc2p3g4yk2r0fey7ured498y93pqfx9yx7yz2utew9j8d84p975w4n6fvm0dkqsv4phexzehjkwrt2ry\",\n",
      "         \"split\": 1,\n",
      "         \"type\": \"bolt12\",\n",
      "         \"outlay_msat\": null,\n",
      "         \"fees_incurred_by\": \"remote\",\n",
      "         \"threshold\": 0\n",
      "      },\n",
      "      {\n",
      "         \"name\": \"Dave\",\n",
      "         \"destination\": \"lno1qgsqvgnwgcg35z6ee2h3yczraddm72xrfua9uve2rlrm9deu7xyfzrc2p3mhg6jvvye8gjrxw4uk593pqfuhd5s96s38hl9svuyulalxxq5cz2sd7tz062sfe4chntf3v4v6c\",\n",
      "         \"split\": 1,\n",
      "         \"type\": \"bolt12\",\n",
      "         \"outlay_msat\": null,\n",
      "         \"fees_incurred_by\": \"remote\",\n",
      "         \"threshold\": 0\n",
      "      },\n",
      "      {\n",
      "         \"name\": \"erin\",\n",
      "         \"destination\": \"lno1qgsqvgnwgcg35z6ee2h3yczraddm72xrfua9uve2rlrm9deu7xyfzrc2p3t8x4mvff29gezx09c5y93pqfzjd89nwfavtpv7leu0n8dn2jev4cnlfzthv878jwpm022ykavp5\",\n",
      "         \"split\": 1,\n",
      "         \"type\": \"bolt12\",\n",
      "         \"outlay_msat\": null,\n",
      "         \"fees_incurred_by\": \"remote\",\n",
      "         \"threshold\": 0\n",
      "      }\n",
      "   ]\n",
      "}\n"
     ]
    }
   ],
   "source": [
    "prism_show_command = f'{l2} prism-show {prism.get(\"prism_id\")}'\n",
    "!$prism_show_command"
   ]
  },
  {
   "cell_type": "code",
   "execution_count": 77,
   "id": "d20e6830-1c55-41f9-8f72-d32f402f7e3e",
   "metadata": {
    "scrolled": true
   },
   "outputs": [
    {
     "name": "stdout",
     "output_type": "stream",
     "text": [
      "[\n",
      "   {\n",
      "      \"prism_id\": \"2072b63d-c422-4db3-9db0-10e223bbe7f8\",\n",
      "      \"version\": \"v0.0.2\",\n",
      "      \"sdf\": \"relative\",\n",
      "      \"members\": [\n",
      "         {\n",
      "            \"name\": \"carol\",\n",
      "            \"destination\": \"lno1qgsqvgnwgcg35z6ee2h3yczraddm72xrfua9uve2rlrm9deu7xyfzrc2ps68yuzx23nnz7tddpvrq93pqfx9yx7yz2utew9j8d84p975w4n6fvm0dkqsv4phexzehjkwrt2ry\",\n",
      "            \"split\": 1,\n",
      "            \"type\": \"bolt12\",\n",
      "            \"outlay_msat\": null,\n",
      "            \"fees_incurred_by\": \"remote\",\n",
      "            \"threshold\": 0\n",
      "         },\n",
      "         {\n",
      "            \"name\": \"Dave\",\n",
      "            \"destination\": \"lno1qgsqvgnwgcg35z6ee2h3yczraddm72xrfua9uve2rlrm9deu7xyfzrc2p368xv6kxg6k2w2c8pc8293pqfuhd5s96s38hl9svuyulalxxq5cz2sd7tz062sfe4chntf3v4v6c\",\n",
      "            \"split\": 1,\n",
      "            \"type\": \"bolt12\",\n",
      "            \"outlay_msat\": null,\n",
      "            \"fees_incurred_by\": \"remote\",\n",
      "            \"threshold\": 0\n",
      "         },\n",
      "         {\n",
      "            \"name\": \"erin\",\n",
      "            \"destination\": \"lno1qgsqvgnwgcg35z6ee2h3yczraddm72xrfua9uve2rlrm9deu7xyfzrc2p36h2dmx0pqnqepetg6kv93pqfzjd89nwfavtpv7leu0n8dn2jev4cnlfzthv878jwpm022ykavp5\",\n",
      "            \"split\": 1,\n",
      "            \"type\": \"bolt12\",\n",
      "            \"outlay_msat\": null,\n",
      "            \"fees_incurred_by\": \"remote\",\n",
      "            \"threshold\": 0\n",
      "         }\n",
      "      ]\n",
      "   }\n",
      "]\n"
     ]
    }
   ],
   "source": [
    "!$l2 prism-list"
   ]
  },
  {
   "cell_type": "code",
   "execution_count": 42,
   "id": "87655b12-681c-4000-9a55-a8dffec871b8",
   "metadata": {},
   "outputs": [
    {
     "name": "stdout",
     "output_type": "stream",
     "text": [
      "{\n",
      "   \"code\": -32601,\n",
      "   \"message\": \"Unknown command 'prism-delete'\"\n",
      "}\n"
     ]
    }
   ],
   "source": [
    "delete_prism_command = f'{l2} prism-delete {prism.get(\"prism_id\")}'\n",
    "!$delete_prism_command"
   ]
  },
  {
   "cell_type": "code",
   "execution_count": 89,
   "id": "44b7ffcc-f0fd-44ed-a198-afec41167d16",
   "metadata": {},
   "outputs": [
    {
     "name": "stdout",
     "output_type": "stream",
     "text": [
      "{\n",
      "   \"prism_id\": \"2072b63d-c422-4db3-9db0-10e223bbe7f8\",\n",
      "   \"version\": \"v0.0.2\",\n",
      "   \"sdf\": \"relative\",\n",
      "   \"members\": [\n",
      "      {\n",
      "         \"name\": \"carol {SsC}\",\n",
      "         \"destination\": \"lno1qgsqvgnwgcg35z6ee2h3yczraddm72xrfua9uve2rlrm9deu7xyfzrc2p3ryvdnsxfr9qa2j89mxx93pqfx9yx7yz2utew9j8d84p975w4n6fvm0dkqsv4phexzehjkwrt2ry\",\n",
      "         \"split\": 1,\n",
      "         \"type\": \"bolt12\",\n",
      "         \"outlay_msat\": null,\n",
      "         \"fees_incurred_by\": \"remote\",\n",
      "         \"threshold\": 0\n",
      "      },\n",
      "      {\n",
      "         \"name\": \"Dave\",\n",
      "         \"destination\": \"lno1qgsqvgnwgcg35z6ee2h3yczraddm72xrfua9uve2rlrm9deu7xyfzrc2p3n8w4ek0py9wnpcw9mky93pqfuhd5s96s38hl9svuyulalxxq5cz2sd7tz062sfe4chntf3v4v6c\",\n",
      "         \"split\": 1,\n",
      "         \"type\": \"bolt12\",\n",
      "         \"outlay_msat\": null,\n",
      "         \"fees_incurred_by\": \"remote\",\n",
      "         \"threshold\": 0\n",
      "      },\n",
      "      {\n",
      "         \"name\": \"erin\",\n",
      "         \"destination\": \"lno1qgsqvgnwgcg35z6ee2h3yczraddm72xrfua9uve2rlrm9deu7xyfzrc2p3e8sum0vdcygnrxgezyy93pqfzjd89nwfavtpv7leu0n8dn2jev4cnlfzthv878jwpm022ykavp5\",\n",
      "         \"split\": 1,\n",
      "         \"type\": \"bolt12\",\n",
      "         \"outlay_msat\": null,\n",
      "         \"fees_incurred_by\": \"remote\",\n",
      "         \"threshold\": 0\n",
      "      }\n",
      "   ]\n",
      "}\n"
     ]
    }
   ],
   "source": [
    "update_prism_command = f'{l2} -k prism-update prism_id=\"{prism.get(\"prism_id\")}\" members=\\'{json.dumps(create_prism_members())}\\''\n",
    "!$update_prism_command"
   ]
  },
  {
   "cell_type": "code",
   "execution_count": 55,
   "id": "b73364b1-b1c1-445c-a89d-d65fd4ee8ed1",
   "metadata": {},
   "outputs": [
    {
     "name": "stdout",
     "output_type": "stream",
     "text": [
      "{\n",
      "   \"bolt12_bindings\": []\n",
      "}\n"
     ]
    }
   ],
   "source": [
    "!$l2 prism-bindinglist"
   ]
  },
  {
   "cell_type": "code",
   "execution_count": 58,
   "id": "73cc0bdc-224b-4d7b-a9a5-acbb7761c737",
   "metadata": {},
   "outputs": [
    {
     "name": "stdout",
     "output_type": "stream",
     "text": [
      "{\n",
      "   \"prism_id\": \"077f8010-c5b1-4c6b-923f-dd80b7233ad0\",\n",
      "   \"bolt\": \"bolt12\",\n",
      "   \"offer_ids\": []\n",
      "}\n"
     ]
    }
   ],
   "source": [
    "show_binding_command = f'{l2} prism-bindingshow {prism.get(\"prism_id\")}'\n",
    "!$show_binding_command"
   ]
  },
  {
   "cell_type": "code",
   "execution_count": null,
   "id": "3bfacd8a-e0ce-45da-b43b-635e17020f97",
   "metadata": {},
   "outputs": [],
   "source": []
  }
 ],
 "metadata": {
  "kernelspec": {
   "display_name": "Python 3 (ipykernel)",
   "language": "python",
   "name": "python3"
  },
  "language_info": {
   "codemirror_mode": {
    "name": "ipython",
    "version": 3
   },
   "file_extension": ".py",
   "mimetype": "text/x-python",
   "name": "python",
   "nbconvert_exporter": "python",
   "pygments_lexer": "ipython3",
   "version": "3.11.7"
  }
 },
 "nbformat": 4,
 "nbformat_minor": 5
}
