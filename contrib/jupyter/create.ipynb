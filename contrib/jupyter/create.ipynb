{
 "cells": [
  {
   "cell_type": "code",
   "execution_count": 1,
   "id": "66c7d7e1-53cb-4456-80a8-f1af081b7a5b",
   "metadata": {},
   "outputs": [
    {
     "name": "stdout",
     "output_type": "stream",
     "text": [
      "l1's lightning-cli is:  /nix/store/h198rxd1qyja377cgdr5zr91di2p9hy6-clightning-v24.02.2/bin/lightning-cli --lightning-dir=/home/gudnuf/code/cln/bolt12-prism/.lightning_nodes/l1\n",
      "l2's lightning-cli is:  /nix/store/h198rxd1qyja377cgdr5zr91di2p9hy6-clightning-v24.02.2/bin/lightning-cli --lightning-dir=/home/gudnuf/code/cln/bolt12-prism/.lightning_nodes/l2\n"
     ]
    }
   ],
   "source": [
    "from config import l1, l2, l3, l4, l5\n",
    "import json\n",
    "import random\n",
    "import string\n",
    "\n",
    "def generate_random_string(length):\n",
    "    # Create a sequence of all letters and digits\n",
    "    characters = string.ascii_letters + string.digits\n",
    "    # Randomly choose a character from the sequence for the specified length\n",
    "    random_string = ''.join(random.choice(characters) for i in range(length))\n",
    "    return random_string\n",
    "\n",
    "def setup_network(lightning_clis):\n",
    "    for cli in lightning_clis:\n",
    "        out = !cli getinfo\n",
    "        print(out)\n",
    "\n",
    "#setup_network([l1,l2,l3,l4,l5])\n",
    "\n",
    "print(\"l1's lightning-cli is: \", l1)\n",
    "print(\"l2's lightning-cli is: \", l2)"
   ]
  },
  {
   "cell_type": "code",
   "execution_count": 7,
   "id": "f2727f12-519f-4a25-9b66-8955d42d8f3a",
   "metadata": {},
   "outputs": [],
   "source": [
    "def create_prism_members():\n",
    "    members = []\n",
    "    clis = [l3, l4, l5]\n",
    "    names = [\"carol {}\".format({generate_random_string(3)}) , \"Dave\", \"erin\"]\n",
    "    for cli, name in zip(clis, names):\n",
    "        get_offer = f'{cli} -k offer amount=any description={generate_random_string(12)}'\n",
    "        offer = !$get_offer | jq -r .bolt12\n",
    "        members.append({\n",
    "            \"destination\": offer[0],\n",
    "            \"split\": 1,\n",
    "            \"payout_threshold_msat\": \"100000\",\n",
    "            \"description\": \"desc\"\n",
    "        })\n",
    "    return members"
   ]
  },
  {
   "cell_type": "code",
   "execution_count": 8,
   "id": "9888ffd9-4ab7-40d3-9fd9-979240eda650",
   "metadata": {
    "scrolled": true
   },
   "outputs": [
    {
     "data": {
      "text/plain": [
       "{'prism_id': 'f97fcbff040c3c0a13f60eb27c5fbe6f9b1daad60fec439102477a2d65ca07da',\n",
       " 'description': 'description',\n",
       " 'timestamp': 1731101398,\n",
       " 'outlay_factor': 1.0,\n",
       " 'prism_members': [{'member_id': 'a056e75c805a56278b3361bad547238e61edf77b81ac44b6facfae1a93bbeb4f',\n",
       "   'description': 'desc',\n",
       "   'destination': 'lno1qgsqvgnwgcg35z6ee2h3yczraddm72xrfua9uve2rlrm9deu7xyfzrc2p3g8sn29wejrjjfnxe9yj93pqw9sml8ung36qsa0krqj8eq53zxljkam5d78phnsxay8tgp24ly9g',\n",
       "   'split': 1.0,\n",
       "   'fees_incurred_by': 'remote',\n",
       "   'payout_threshold_msat': 100000},\n",
       "  {'member_id': 'c254f23f7233ddad1a74128f2ecbe56bb5191221694394a66df9347a84d113be',\n",
       "   'description': 'desc',\n",
       "   'destination': 'lno1qgsqvgnwgcg35z6ee2h3yczraddm72xrfua9uve2rlrm9deu7xyfzrc2psm4zd6kwee853fk2q69x93pqfxtxn8q48qhl56yds982ufh5y8z2q8fcfnjf37a43zrm90l3s6jv',\n",
       "   'split': 1.0,\n",
       "   'fees_incurred_by': 'remote',\n",
       "   'payout_threshold_msat': 100000},\n",
       "  {'member_id': '118085cac745869845005474168a2ab34ddc01b45bbf23699c33d29ca9ca5793',\n",
       "   'description': 'desc',\n",
       "   'destination': 'lno1qgsqvgnwgcg35z6ee2h3yczraddm72xrfua9uve2rlrm9deu7xyfzrc2p3zxzan6xfj573nvffeyv93pqdzsnmuqyy0jkf7x635a84c70yflgz4x8sjnh9uqnu5qf67rngzqc',\n",
       "   'split': 1.0,\n",
       "   'fees_incurred_by': 'remote',\n",
       "   'payout_threshold_msat': 100000}]}"
      ]
     },
     "execution_count": 8,
     "metadata": {},
     "output_type": "execute_result"
    }
   ],
   "source": [
    "prism_members = create_prism_members()\n",
    "#lightning-cli -k prism-create members='[<Member>]' description='string'\n",
    "create_prism_command = f'{l2} -k prism-create members=\\'{json.dumps(prism_members)}\\' description=\\'description\\''\n",
    "prism = !$create_prism_command\n",
    "prism = json.loads(''.join(prism))\n",
    "prism"
   ]
  },
  {
   "cell_type": "code",
   "execution_count": 9,
   "id": "5fb87195-8774-4a46-bc39-cd826853298a",
   "metadata": {
    "scrolled": true
   },
   "outputs": [
    {
     "name": "stdout",
     "output_type": "stream",
     "text": [
      "{\n",
      "   \"prisms\": [\n",
      "      {\n",
      "         \"prism_id\": \"f97fcbff040c3c0a13f60eb27c5fbe6f9b1daad60fec439102477a2d65ca07da\",\n",
      "         \"description\": \"description\",\n",
      "         \"timestamp\": 1731101398,\n",
      "         \"outlay_factor\": 1.0,\n",
      "         \"prism_members\": [\n",
      "            {\n",
      "               \"member_id\": \"a056e75c805a56278b3361bad547238e61edf77b81ac44b6facfae1a93bbeb4f\",\n",
      "               \"description\": \"desc\",\n",
      "               \"destination\": \"lno1qgsqvgnwgcg35z6ee2h3yczraddm72xrfua9uve2rlrm9deu7xyfzrc2p3g8sn29wejrjjfnxe9yj93pqw9sml8ung36qsa0krqj8eq53zxljkam5d78phnsxay8tgp24ly9g\",\n",
      "               \"split\": 1.0,\n",
      "               \"fees_incurred_by\": \"remote\",\n",
      "               \"payout_threshold_msat\": 100000\n",
      "            },\n",
      "            {\n",
      "               \"member_id\": \"c254f23f7233ddad1a74128f2ecbe56bb5191221694394a66df9347a84d113be\",\n",
      "               \"description\": \"desc\",\n",
      "               \"destination\": \"lno1qgsqvgnwgcg35z6ee2h3yczraddm72xrfua9uve2rlrm9deu7xyfzrc2psm4zd6kwee853fk2q69x93pqfxtxn8q48qhl56yds982ufh5y8z2q8fcfnjf37a43zrm90l3s6jv\",\n",
      "               \"split\": 1.0,\n",
      "               \"fees_incurred_by\": \"remote\",\n",
      "               \"payout_threshold_msat\": 100000\n",
      "            },\n",
      "            {\n",
      "               \"member_id\": \"118085cac745869845005474168a2ab34ddc01b45bbf23699c33d29ca9ca5793\",\n",
      "               \"description\": \"desc\",\n",
      "               \"destination\": \"lno1qgsqvgnwgcg35z6ee2h3yczraddm72xrfua9uve2rlrm9deu7xyfzrc2p3zxzan6xfj573nvffeyv93pqdzsnmuqyy0jkf7x635a84c70yflgz4x8sjnh9uqnu5qf67rngzqc\",\n",
      "               \"split\": 1.0,\n",
      "               \"fees_incurred_by\": \"remote\",\n",
      "               \"payout_threshold_msat\": 100000\n",
      "            }\n",
      "         ]\n",
      "      }\n",
      "   ]\n",
      "}\n"
     ]
    }
   ],
   "source": [
    "prism_show_command = f'{l2} prism-list {prism.get(\"prism_id\")}'\n",
    "!$prism_show_command"
   ]
  },
  {
   "cell_type": "code",
   "execution_count": 10,
   "id": "d20e6830-1c55-41f9-8f72-d32f402f7e3e",
   "metadata": {
    "scrolled": true
   },
   "outputs": [
    {
     "name": "stdout",
     "output_type": "stream",
     "text": [
      "{\n",
      "   \"prisms\": [\n",
      "      {\n",
      "         \"prism_id\": \"f97fcbff040c3c0a13f60eb27c5fbe6f9b1daad60fec439102477a2d65ca07da\",\n",
      "         \"description\": \"description\",\n",
      "         \"timestamp\": 1731101398,\n",
      "         \"outlay_factor\": 1.0,\n",
      "         \"prism_members\": [\n",
      "            {\n",
      "               \"member_id\": \"a056e75c805a56278b3361bad547238e61edf77b81ac44b6facfae1a93bbeb4f\",\n",
      "               \"description\": \"desc\",\n",
      "               \"destination\": \"lno1qgsqvgnwgcg35z6ee2h3yczraddm72xrfua9uve2rlrm9deu7xyfzrc2p3g8sn29wejrjjfnxe9yj93pqw9sml8ung36qsa0krqj8eq53zxljkam5d78phnsxay8tgp24ly9g\",\n",
      "               \"split\": 1.0,\n",
      "               \"fees_incurred_by\": \"remote\",\n",
      "               \"payout_threshold_msat\": 100000\n",
      "            },\n",
      "            {\n",
      "               \"member_id\": \"c254f23f7233ddad1a74128f2ecbe56bb5191221694394a66df9347a84d113be\",\n",
      "               \"description\": \"desc\",\n",
      "               \"destination\": \"lno1qgsqvgnwgcg35z6ee2h3yczraddm72xrfua9uve2rlrm9deu7xyfzrc2psm4zd6kwee853fk2q69x93pqfxtxn8q48qhl56yds982ufh5y8z2q8fcfnjf37a43zrm90l3s6jv\",\n",
      "               \"split\": 1.0,\n",
      "               \"fees_incurred_by\": \"remote\",\n",
      "               \"payout_threshold_msat\": 100000\n",
      "            },\n",
      "            {\n",
      "               \"member_id\": \"118085cac745869845005474168a2ab34ddc01b45bbf23699c33d29ca9ca5793\",\n",
      "               \"description\": \"desc\",\n",
      "               \"destination\": \"lno1qgsqvgnwgcg35z6ee2h3yczraddm72xrfua9uve2rlrm9deu7xyfzrc2p3zxzan6xfj573nvffeyv93pqdzsnmuqyy0jkf7x635a84c70yflgz4x8sjnh9uqnu5qf67rngzqc\",\n",
      "               \"split\": 1.0,\n",
      "               \"fees_incurred_by\": \"remote\",\n",
      "               \"payout_threshold_msat\": 100000\n",
      "            }\n",
      "         ]\n",
      "      }\n",
      "   ]\n",
      "}\n"
     ]
    }
   ],
   "source": [
    "!$l2 prism-list"
   ]
  },
  {
   "cell_type": "code",
   "execution_count": 23,
   "id": "87655b12-681c-4000-9a55-a8dffec871b8",
   "metadata": {},
   "outputs": [
    {
     "name": "stdout",
     "output_type": "stream",
     "text": [
      "{\n",
      "   \"code\": -32600,\n",
      "   \"message\": \"Error while processing prism-delete: This prism has existing bindings! Use prism-deletebinding [offer_id=] before attempting to delete prism 'f97fcbff040c3c0a13f60eb27c5fbe6f9b1daad60fec439102477a2d65ca07da'.\",\n",
      "   \"traceback\": \"Traceback (most recent call last):\\n  File \\\"/nix/store/xmpjb5s429d8fba1j7nxf3qyzs0y7m2s-python3.11-pyln_client-23.5.2/lib/python3.11/site-packages/pyln/client/plugin.py\\\", line 639, in _dispatch_request\\n    result = self._exec_func(method.func, request)\\n             ^^^^^^^^^^^^^^^^^^^^^^^^^^^^^^^^^^^^^\\n  File \\\"/nix/store/xmpjb5s429d8fba1j7nxf3qyzs0y7m2s-python3.11-pyln_client-23.5.2/lib/python3.11/site-packages/pyln/client/plugin.py\\\", line 616, in _exec_func\\n    ret = func(*ba.args, **ba.kwargs)\\n          ^^^^^^^^^^^^^^^^^^^^^^^^^^^\\n  File \\\"/home/gudnuf/code/cln/bolt12-prism/bolt12-prism.py\\\", line 224, in delete_prism\\n    raise Exception(\\nException: This prism has existing bindings! Use prism-deletebinding [offer_id=] before attempting to delete prism 'f97fcbff040c3c0a13f60eb27c5fbe6f9b1daad60fec439102477a2d65ca07da'.\\n\"\n",
      "}\n"
     ]
    }
   ],
   "source": [
    "delete_prism_command = f'{l2} prism-delete {prism.get(\"prism_id\")}'\n",
    "!$delete_prism_command"
   ]
  },
  {
   "cell_type": "code",
   "execution_count": 11,
   "id": "44b7ffcc-f0fd-44ed-a198-afec41167d16",
   "metadata": {},
   "outputs": [
    {
     "name": "stdout",
     "output_type": "stream",
     "text": [
      "{\n",
      "   \"prism_id\": \"f97fcbff040c3c0a13f60eb27c5fbe6f9b1daad60fec439102477a2d65ca07da\",\n",
      "   \"description\": \"description\",\n",
      "   \"timestamp\": 1731101398,\n",
      "   \"outlay_factor\": 1.0,\n",
      "   \"prism_members\": [\n",
      "      {\n",
      "         \"member_id\": \"1596531d823d75091dbfa36e119df86f793d0ff119bbcf49887b01e42c5e81fb\",\n",
      "         \"description\": \"desc\",\n",
      "         \"destination\": \"lno1qgsqvgnwgcg35z6ee2h3yczraddm72xrfua9uve2rlrm9deu7xyfzrc2p3pkgetpvymxc6jpvazys93pqw9sml8ung36qsa0krqj8eq53zxljkam5d78phnsxay8tgp24ly9g\",\n",
      "         \"split\": 1.0,\n",
      "         \"fees_incurred_by\": \"remote\",\n",
      "         \"payout_threshold_msat\": 100000\n",
      "      },\n",
      "      {\n",
      "         \"member_id\": \"5eb8f53c7afc19811ffa908dd385ad0d952d42ed0144fcddac3b196cbe40a2be\",\n",
      "         \"description\": \"desc\",\n",
      "         \"destination\": \"lno1qgsqvgnwgcg35z6ee2h3yczraddm72xrfua9uve2rlrm9deu7xyfzrc2p3u5ys6ew938vmznf9r9293pqfxtxn8q48qhl56yds982ufh5y8z2q8fcfnjf37a43zrm90l3s6jv\",\n",
      "         \"split\": 1.0,\n",
      "         \"fees_incurred_by\": \"remote\",\n",
      "         \"payout_threshold_msat\": 100000\n",
      "      },\n",
      "      {\n",
      "         \"member_id\": \"3cb96a4f92ff59e70b726b37f7d3183a5ae53f6602f33f0c5373c49dda5e0a00\",\n",
      "         \"description\": \"desc\",\n",
      "         \"destination\": \"lno1qgsqvgnwgcg35z6ee2h3yczraddm72xrfua9uve2rlrm9deu7xyfzrc2p38xc7n4gy6xg4ngvc65x93pqdzsnmuqyy0jkf7x635a84c70yflgz4x8sjnh9uqnu5qf67rngzqc\",\n",
      "         \"split\": 1.0,\n",
      "         \"fees_incurred_by\": \"remote\",\n",
      "         \"payout_threshold_msat\": 100000\n",
      "      }\n",
      "   ]\n",
      "}\n"
     ]
    }
   ],
   "source": [
    "update_prism_command = f'{l2} -k prism-update prism_id=\"{prism.get(\"prism_id\")}\" members=\\'{json.dumps(create_prism_members())}\\''\n",
    "!$update_prism_command"
   ]
  },
  {
   "cell_type": "code",
   "execution_count": 13,
   "id": "b73364b1-b1c1-445c-a89d-d65fd4ee8ed1",
   "metadata": {
    "scrolled": true
   },
   "outputs": [
    {
     "name": "stdout",
     "output_type": "stream",
     "text": [
      "{\n",
      "   \"bolt12_prism_bindings\": []\n",
      "}\n"
     ]
    }
   ],
   "source": [
    "!$l2 prism-listbindings"
   ]
  },
  {
   "cell_type": "code",
   "execution_count": 58,
   "id": "73cc0bdc-224b-4d7b-a9a5-acbb7761c737",
   "metadata": {},
   "outputs": [
    {
     "name": "stdout",
     "output_type": "stream",
     "text": [
      "{\n",
      "   \"prism_id\": \"077f8010-c5b1-4c6b-923f-dd80b7233ad0\",\n",
      "   \"bolt\": \"bolt12\",\n",
      "   \"offer_ids\": []\n",
      "}\n"
     ]
    }
   ],
   "source": []
  },
  {
   "cell_type": "code",
   "execution_count": 14,
   "id": "3bfacd8a-e0ce-45da-b43b-635e17020f97",
   "metadata": {},
   "outputs": [
    {
     "name": "stdout",
     "output_type": "stream",
     "text": [
      "3de9728d1ed4856b6da288a2a874fe718cffeee66998f81fb666e36580ab4c0e\n",
      "lno1qgsqvgnwgcg35z6ee2h3yczraddm72xrfua9uve2rlrm9deu7xyfzrc2psuku62d0fg5266ptpgku93pq2u0aj0unymayhpthj6l4wkvzghuy4t3zflf0mtznvsprly2t9yyq\n"
     ]
    }
   ],
   "source": [
    "get_offer = f'{l2} -k offer amount=any description={generate_random_string(12)}'\n",
    "prism_offer = !$get_offer\n",
    "prism_offer = json.loads(''.join(prism_offer))\n",
    "prism_offer_id = prism_offer.get(\"offer_id\")\n",
    "prism_bolt12 = prism_offer.get(\"bolt12\")\n",
    "\n",
    "print(prism_offer_id)\n",
    "print(prism_bolt12)"
   ]
  },
  {
   "cell_type": "code",
   "execution_count": 15,
   "id": "11f59065-5f3a-4740-9742-348b1625a6d6",
   "metadata": {
    "scrolled": true
   },
   "outputs": [
    {
     "name": "stdout",
     "output_type": "stream",
     "text": [
      "{\n",
      "   \"status\": \"must-create\",\n",
      "   \"timestamp\": 1731101438,\n",
      "   \"offer_id\": \"3de9728d1ed4856b6da288a2a874fe718cffeee66998f81fb666e36580ab4c0e\",\n",
      "   \"prism_id\": \"f97fcbff040c3c0a13f60eb27c5fbe6f9b1daad60fec439102477a2d65ca07da\",\n",
      "   \"prism_binding_key\": [\n",
      "      \"prism\",\n",
      "      \"v2.1\",\n",
      "      \"bind\",\n",
      "      \"bolt12\",\n",
      "      \"3de9728d1ed4856b6da288a2a874fe718cffeee66998f81fb666e36580ab4c0e\"\n",
      "   ],\n",
      "   \"prism_members\": [\n",
      "      {\n",
      "         \"member_id\": \"1596531d823d75091dbfa36e119df86f793d0ff119bbcf49887b01e42c5e81fb\",\n",
      "         \"description\": \"desc\",\n",
      "         \"destination\": \"lno1qgsqvgnwgcg35z6ee2h3yczraddm72xrfua9uve2rlrm9deu7xyfzrc2p3pkgetpvymxc6jpvazys93pqw9sml8ung36qsa0krqj8eq53zxljkam5d78phnsxay8tgp24ly9g\",\n",
      "         \"split\": 1.0,\n",
      "         \"fees_incurred_by\": \"remote\",\n",
      "         \"payout_threshold_msat\": 100000\n",
      "      },\n",
      "      {\n",
      "         \"member_id\": \"5eb8f53c7afc19811ffa908dd385ad0d952d42ed0144fcddac3b196cbe40a2be\",\n",
      "         \"description\": \"desc\",\n",
      "         \"destination\": \"lno1qgsqvgnwgcg35z6ee2h3yczraddm72xrfua9uve2rlrm9deu7xyfzrc2p3u5ys6ew938vmznf9r9293pqfxtxn8q48qhl56yds982ufh5y8z2q8fcfnjf37a43zrm90l3s6jv\",\n",
      "         \"split\": 1.0,\n",
      "         \"fees_incurred_by\": \"remote\",\n",
      "         \"payout_threshold_msat\": 100000\n",
      "      },\n",
      "      {\n",
      "         \"member_id\": \"3cb96a4f92ff59e70b726b37f7d3183a5ae53f6602f33f0c5373c49dda5e0a00\",\n",
      "         \"description\": \"desc\",\n",
      "         \"destination\": \"lno1qgsqvgnwgcg35z6ee2h3yczraddm72xrfua9uve2rlrm9deu7xyfzrc2p38xc7n4gy6xg4ngvc65x93pqdzsnmuqyy0jkf7x635a84c70yflgz4x8sjnh9uqnu5qf67rngzqc\",\n",
      "         \"split\": 1.0,\n",
      "         \"fees_incurred_by\": \"remote\",\n",
      "         \"payout_threshold_msat\": 100000\n",
      "      }\n",
      "   ]\n",
      "}\n"
     ]
    }
   ],
   "source": [
    "prism_id=prism.get(\"prism_id\")\n",
    "\n",
    "def bind_prism_to_offer(prism_id, offer_id):\n",
    "    bind_to = f'{l2} prism-addbinding -k prism_id={prism_id} offer_id={offer_id}'\n",
    "    !$bind_to\n",
    "\n",
    "bind_prism_to_offer(prism_id=prism_id, offer_id=prism_offer_id)\n",
    "    "
   ]
  },
  {
   "cell_type": "code",
   "execution_count": 19,
   "id": "6b24d85d-ffd9-42cf-9574-5d228c7a81b4",
   "metadata": {},
   "outputs": [
    {
     "name": "stdout",
     "output_type": "stream",
     "text": [
      "{\n",
      "   \"bolt12_prism_bindings\": {\n",
      "      \"offer_id\": \"3de9728d1ed4856b6da288a2a874fe718cffeee66998f81fb666e36580ab4c0e\",\n",
      "      \"prism_id\": \"f97fcbff040c3c0a13f60eb27c5fbe6f9b1daad60fec439102477a2d65ca07da\",\n",
      "      \"timestamp\": 1731101438,\n",
      "      \"member_outlays\": [\n",
      "         {\n",
      "            \"member_id\": \"1596531d823d75091dbfa36e119df86f793d0ff119bbcf49887b01e42c5e81fb\",\n",
      "            \"outlay_msat\": 0\n",
      "         },\n",
      "         {\n",
      "            \"member_id\": \"5eb8f53c7afc19811ffa908dd385ad0d952d42ed0144fcddac3b196cbe40a2be\",\n",
      "            \"outlay_msat\": 0\n",
      "         },\n",
      "         {\n",
      "            \"member_id\": \"3cb96a4f92ff59e70b726b37f7d3183a5ae53f6602f33f0c5373c49dda5e0a00\",\n",
      "            \"outlay_msat\": 0\n",
      "         }\n",
      "      ]\n",
      "   }\n",
      "}\n"
     ]
    }
   ],
   "source": [
    "#!$l2 prism-bindinglist\n",
    "show_binding_command = f'{l2} -k prism-listbindings offer_id={prism_offer_id}'\n",
    "!$show_binding_command"
   ]
  },
  {
   "cell_type": "code",
   "execution_count": 20,
   "id": "fd69c329-ed05-40b5-97ba-d76168a77e98",
   "metadata": {},
   "outputs": [
    {
     "name": "stdout",
     "output_type": "stream",
     "text": [
      "lni1qqg2jdkv83cgmr3603uzq73snjm2kq3qqc3xu3s3rg94nj40zfsy866mhu5vxne6tcej5878k2mneuvgjy8s5rpede5567j3g445zkz3dctzzq4clmylexfh6fwzh094l2avcy30cf2hzyn7jlkk9xeqz87g5k2ggpgzqp3zderpzxstt8927ynqg044h0egcd8n5h3n9g0u0v4h8ncc3yg02gpsrp4qtqssydnpx3f94l8f844gm57qm3wrww6av8wn98vr2amx6yenqud8xty45zvq9w87e87fjd7jts4med06htxpyt7z24c3yl5ha43fkgq3lj99jjzqqthd9lqwuhld9yw09t3903pg7une7cg3e5znn4kfm8kefqr3y62qcqgzudr20p9pjh423msvyp46aqyzd6nsmk5ty88vsja33jhd2w7srefqqv4cg8qe55ct9776cmc9ntmy09tctgwye3u7aszw72dr9rksm70538j873lg8447qtnf4cvet0kkgg0hyqdzrsqqqqqqqqqqqqqqpgqqqqqqqqqqqqqayjedltzjqqqqqq9yq3njaqe94qsxrnc040nr6axhx9la6v5p7dfmhdd9ed7hg60gej3dg95khqueu4a2qvqcdg9syypt3lkfljvn05ju9w7tt746esfzlsj4wyf8a9ldv2djqy0u3fv5ss8sgzgpuzl70uauml3zpzatynghtjendmr07zyxx40zkusxqlqvdje6dljtvqdxz8xll6dcg60zuevawlue7t8cau8gux74nnkct3z6582y\n"
     ]
    }
   ],
   "source": [
    "def get_invoice_from_offer(lightning_cli, bolt12, amount_msat):\n",
    "    fetch_invoice = f'{lightning_cli} fetchinvoice {bolt12} {amount_msat}'\n",
    "    invoice = !$fetch_invoice\n",
    "    return json.loads(''.join(invoice)).get('invoice')\n",
    "\n",
    "invoice = get_invoice_from_offer(l1, prism_bolt12, 100000) \n",
    "\n",
    "print(invoice)"
   ]
  },
  {
   "cell_type": "code",
   "execution_count": 21,
   "id": "cadabf7c-5f5c-4efc-a1fa-b1fe8db83cf9",
   "metadata": {},
   "outputs": [
    {
     "name": "stdout",
     "output_type": "stream",
     "text": [
      "{\n",
      "   \"destination\": \"02b8fec9fc9937d25c2bbcb5fabacc122fc25571127e97ed629b2011fc8a594840\",\n",
      "   \"payment_hash\": \"61cf0fabe63d74d7317fdd3281f353bbb5a5cb7d7469e8cca2d41696b8399e57\",\n",
      "   \"created_at\": 1731101479.611274546,\n",
      "   \"parts\": 1,\n",
      "   \"amount_msat\": 100000,\n",
      "   \"amount_sent_msat\": 100000,\n",
      "   \"payment_preimage\": \"7c135da2f189264eac959254770c4c8e96ab8e0a1c5f8094bd52d424447934a9\",\n",
      "   \"status\": \"complete\"\n",
      "}\n"
     ]
    }
   ],
   "source": [
    "def pay_invoice(lightning_cli, invoice):\n",
    "    pay_invoice = f'{lightning_cli} pay {invoice}'\n",
    "    !$pay_invoice\n",
    "\n",
    "pay_invoice(l1, invoice)"
   ]
  },
  {
   "cell_type": "raw",
   "id": "68fbb18a-f453-47e4-9bde-99dfaa09afb3",
   "metadata": {},
   "source": [
    "def pay_prism(lightning_cli, prism_id, amount_msat):\n",
    "    pay = f'{lightning_cli} prism-pay {prism_id} {amount_msat}'\n",
    "    !$pay\n",
    "\n",
    "pay_prism(l2, prism_id, 100000)"
   ]
  },
  {
   "cell_type": "code",
   "execution_count": 22,
   "id": "266b2089-c602-4185-83a9-d74a58a3e012",
   "metadata": {},
   "outputs": [
    {
     "name": "stdout",
     "output_type": "stream",
     "text": [
      "{\n",
      "   \"prism_member_payouts\": {\n",
      "      \"1596531d823d75091dbfa36e119df86f793d0ff119bbcf49887b01e42c5e81fb\": {\n",
      "         \"destination\": \"038b0dfcfc9a23a043afb0c123e414888df95bbba37c70de70374875a02aafc854\",\n",
      "         \"payment_hash\": \"73ca46a0d4a75bd2bc46ea173a2f7733086777387edd27aeacd0aab987829337\",\n",
      "         \"created_at\": 1731101519.2384727,\n",
      "         \"parts\": 1,\n",
      "         \"amount_msat\": \"33333msat\",\n",
      "         \"amount_sent_msat\": \"33333msat\",\n",
      "         \"payment_preimage\": \"d1273ece055d3554fdb36c2b168e9d52065215a668d85299f6896ae0c62fc37a\",\n",
      "         \"status\": \"complete\"\n",
      "      },\n",
      "      \"5eb8f53c7afc19811ffa908dd385ad0d952d42ed0144fcddac3b196cbe40a2be\": {\n",
      "         \"destination\": \"024cb34ce0a9c17fd3446c0a757137a10e2500e9c26724c7ddac443d95ff8c3526\",\n",
      "         \"payment_hash\": \"0ae229e7f7f327ecb169b152b0d3d09b65a61b991aad7eddcaf32bbc2209095a\",\n",
      "         \"created_at\": 1731101520.1612797,\n",
      "         \"parts\": 1,\n",
      "         \"amount_msat\": \"33333msat\",\n",
      "         \"amount_sent_msat\": \"33333msat\",\n",
      "         \"payment_preimage\": \"bd0cb5ce0c3bc33ce68deaced91edcb53292c19641b8ba794fd715ad08ddb0c8\",\n",
      "         \"status\": \"complete\"\n",
      "      },\n",
      "      \"3cb96a4f92ff59e70b726b37f7d3183a5ae53f6602f33f0c5373c49dda5e0a00\": {\n",
      "         \"destination\": \"034509ef80211f2b27c6d469d3d71e7913f40aa63c253b97809f2804ebc39a040c\",\n",
      "         \"payment_hash\": \"bee088fdb8519179cd4ee71f04ad9196e6ea6c35f6997840f71e67f65cf5093b\",\n",
      "         \"created_at\": 1731101521.3977947,\n",
      "         \"parts\": 1,\n",
      "         \"amount_msat\": \"33333msat\",\n",
      "         \"amount_sent_msat\": \"33334msat\",\n",
      "         \"payment_preimage\": \"57901b616ef1d455889039513f69f5f2e6e7bf711f1a83b5630ea39990d03349\",\n",
      "         \"status\": \"complete\"\n",
      "      }\n",
      "   }\n",
      "}\n"
     ]
    }
   ],
   "source": [
    "def pay_prism(lightning_cli, prism_id, amount_msat):\n",
    "    pay = f'{lightning_cli} prism-pay {prism_id} {amount_msat}'\n",
    "    !$pay\n",
    "\n",
    "pay_prism(l2, prism_id, 100000)"
   ]
  },
  {
   "cell_type": "code",
   "execution_count": null,
   "id": "f3bcfbfa-214c-4acd-a116-4edc05ddf9c7",
   "metadata": {},
   "outputs": [],
   "source": []
  }
 ],
 "metadata": {
  "kernelspec": {
   "display_name": "Python 3 (ipykernel)",
   "language": "python",
   "name": "python3"
  },
  "language_info": {
   "codemirror_mode": {
    "name": "ipython",
    "version": 3
   },
   "file_extension": ".py",
   "mimetype": "text/x-python",
   "name": "python",
   "nbconvert_exporter": "python",
   "pygments_lexer": "ipython3",
   "version": "3.11.7"
  }
 },
 "nbformat": 4,
 "nbformat_minor": 5
}
