{
 "cells": [
  {
   "cell_type": "code",
   "execution_count": 12,
   "id": "66c7d7e1-53cb-4456-80a8-f1af081b7a5b",
   "metadata": {},
   "outputs": [
    {
     "name": "stdout",
     "output_type": "stream",
     "text": [
      "l1's lightning-cli is:  /nix/store/h198rxd1qyja377cgdr5zr91di2p9hy6-clightning-v24.02.2/bin/lightning-cli --lightning-dir=/home/gudnuf/code/bolt12-prism/.lightning_nodes/l1\n",
      "l2's lightning-cli is:  /nix/store/h198rxd1qyja377cgdr5zr91di2p9hy6-clightning-v24.02.2/bin/lightning-cli --lightning-dir=/home/gudnuf/code/bolt12-prism/.lightning_nodes/l2\n"
     ]
    }
   ],
   "source": [
    "from config import l1, l2, l3, l4, l5\n",
    "import json\n",
    "import random\n",
    "import string\n",
    "\n",
    "def generate_random_string(length):\n",
    "    # Create a sequence of all letters and digits\n",
    "    characters = string.ascii_letters + string.digits\n",
    "    # Randomly choose a character from the sequence for the specified length\n",
    "    random_string = ''.join(random.choice(characters) for i in range(length))\n",
    "    return random_string\n",
    "\n",
    "def setup_network(lightning_clis):\n",
    "    for cli in lightning_clis:\n",
    "        out = !cli getinfo\n",
    "        print(out)\n",
    "\n",
    "#setup_network([l1,l2,l3,l4,l5])\n",
    "\n",
    "print(\"l1's lightning-cli is: \", l1)\n",
    "print(\"l2's lightning-cli is: \", l2)"
   ]
  },
  {
   "cell_type": "code",
   "execution_count": 13,
   "id": "f2727f12-519f-4a25-9b66-8955d42d8f3a",
   "metadata": {},
   "outputs": [],
   "source": [
    "def create_prism_members():\n",
    "    members = []\n",
    "    clis = [l3, l4, l5]\n",
    "    names = [\"carol {}\".format({generate_random_string(3)}) , \"Dave\", \"erin\"]\n",
    "    for cli, name in zip(clis, names):\n",
    "        get_offer = f'{cli} -k offer amount=any description={generate_random_string(12)}'\n",
    "        offer = !$get_offer | jq -r .bolt12\n",
    "        members.append({\n",
    "            \"label\": name,\n",
    "            \"destination\": offer[0],\n",
    "            \"type\": \"bolt12\",\n",
    "            \"split\": 1\n",
    "        })\n",
    "    return members"
   ]
  },
  {
   "cell_type": "code",
   "execution_count": 14,
   "id": "9888ffd9-4ab7-40d3-9fd9-979240eda650",
   "metadata": {
    "scrolled": true
   },
   "outputs": [
    {
     "data": {
      "text/plain": [
       "{'prism_id': 'a9f1c094-cbc9-45c3-9632-cdcc2929caa8',\n",
       " 'prism_members': [{'member_id': 'a8a938fa-7d81-4aae-b671-0b460cf97d9b',\n",
       "   'label': 'carol {C1m}',\n",
       "   'destination': 'lno1qgsqvgnwgcg35z6ee2h3yczraddm72xrfua9uve2rlrm9deu7xyfzrc2p3phswrpvfjk7ejv89e5g93pqgfjkx3qvsv22wj39220cpesvsdmsyuvegaad6wsdw7lsahrkv4sw',\n",
       "   'split': 1,\n",
       "   'fees_incurred_by': 'remote',\n",
       "   'payout_threshold': '0msat'},\n",
       "  {'member_id': '11ec6990-613f-4287-9687-73b7800bd9c6',\n",
       "   'label': 'Dave',\n",
       "   'destination': 'lno1qgsqvgnwgcg35z6ee2h3yczraddm72xrfua9uve2rlrm9deu7xyfzrc2p339wmp4favkw5n2dpy9s93pq032lzz97ehk7fxvn4lqgdz6kmpvfw54m6dkt8ahhnn0vyxulm375',\n",
       "   'split': 1,\n",
       "   'fees_incurred_by': 'remote',\n",
       "   'payout_threshold': '0msat'},\n",
       "  {'member_id': '554e038f-266e-4788-805b-ec3a41f887c9',\n",
       "   'label': 'erin',\n",
       "   'destination': 'lno1qgsqvgnwgcg35z6ee2h3yczraddm72xrfua9uve2rlrm9deu7xyfzrc2p3p4w6nsg4u4v4nfwe6yv93pqgmlacrhla00z62s9z8yfu5uh0s50c02lwtmaucz24qzzyaemretx',\n",
       "   'split': 1,\n",
       "   'fees_incurred_by': 'remote',\n",
       "   'payout_threshold': '0msat'}]}"
      ]
     },
     "execution_count": 14,
     "metadata": {},
     "output_type": "execute_result"
    }
   ],
   "source": [
    "prism_members = create_prism_members()\n",
    "#lightning-cli -k prism-create members='[<Member>]'\n",
    "create_prism_command = f'{l2} -k prism-create members=\\'{json.dumps(prism_members)}\\''\n",
    "prism = !$create_prism_command\n",
    "prism = json.loads(''.join(prism))\n",
    "prism"
   ]
  },
  {
   "cell_type": "code",
   "execution_count": 88,
   "id": "5fb87195-8774-4a46-bc39-cd826853298a",
   "metadata": {
    "scrolled": true
   },
   "outputs": [
    {
     "name": "stdout",
     "output_type": "stream",
     "text": [
      "{\n",
      "   \"prism_id\": \"2072b63d-c422-4db3-9db0-10e223bbe7f8\",\n",
      "   \"version\": \"v0.0.2\",\n",
      "   \"sdf\": \"relative\",\n",
      "   \"members\": [\n",
      "      {\n",
      "         \"name\": \"carol {g3N}\",\n",
      "         \"destination\": \"lno1qgsqvgnwgcg35z6ee2h3yczraddm72xrfua9uve2rlrm9deu7xyfzrc2p3g4yk2r0fey7ured498y93pqfx9yx7yz2utew9j8d84p975w4n6fvm0dkqsv4phexzehjkwrt2ry\",\n",
      "         \"split\": 1,\n",
      "         \"type\": \"bolt12\",\n",
      "         \"outlay_msat\": null,\n",
      "         \"fees_incurred_by\": \"remote\",\n",
      "         \"threshold\": 0\n",
      "      },\n",
      "      {\n",
      "         \"name\": \"Dave\",\n",
      "         \"destination\": \"lno1qgsqvgnwgcg35z6ee2h3yczraddm72xrfua9uve2rlrm9deu7xyfzrc2p3mhg6jvvye8gjrxw4uk593pqfuhd5s96s38hl9svuyulalxxq5cz2sd7tz062sfe4chntf3v4v6c\",\n",
      "         \"split\": 1,\n",
      "         \"type\": \"bolt12\",\n",
      "         \"outlay_msat\": null,\n",
      "         \"fees_incurred_by\": \"remote\",\n",
      "         \"threshold\": 0\n",
      "      },\n",
      "      {\n",
      "         \"name\": \"erin\",\n",
      "         \"destination\": \"lno1qgsqvgnwgcg35z6ee2h3yczraddm72xrfua9uve2rlrm9deu7xyfzrc2p3t8x4mvff29gezx09c5y93pqfzjd89nwfavtpv7leu0n8dn2jev4cnlfzthv878jwpm022ykavp5\",\n",
      "         \"split\": 1,\n",
      "         \"type\": \"bolt12\",\n",
      "         \"outlay_msat\": null,\n",
      "         \"fees_incurred_by\": \"remote\",\n",
      "         \"threshold\": 0\n",
      "      }\n",
      "   ]\n",
      "}\n"
     ]
    }
   ],
   "source": [
    "prism_show_command = f'{l2} prism-show {prism.get(\"prism_id\")}'\n",
    "!$prism_show_command"
   ]
  },
  {
   "cell_type": "code",
   "execution_count": 77,
   "id": "d20e6830-1c55-41f9-8f72-d32f402f7e3e",
   "metadata": {
    "scrolled": true
   },
   "outputs": [
    {
     "name": "stdout",
     "output_type": "stream",
     "text": [
      "[\n",
      "   {\n",
      "      \"prism_id\": \"2072b63d-c422-4db3-9db0-10e223bbe7f8\",\n",
      "      \"version\": \"v0.0.2\",\n",
      "      \"sdf\": \"relative\",\n",
      "      \"members\": [\n",
      "         {\n",
      "            \"name\": \"carol\",\n",
      "            \"destination\": \"lno1qgsqvgnwgcg35z6ee2h3yczraddm72xrfua9uve2rlrm9deu7xyfzrc2ps68yuzx23nnz7tddpvrq93pqfx9yx7yz2utew9j8d84p975w4n6fvm0dkqsv4phexzehjkwrt2ry\",\n",
      "            \"split\": 1,\n",
      "            \"type\": \"bolt12\",\n",
      "            \"outlay_msat\": null,\n",
      "            \"fees_incurred_by\": \"remote\",\n",
      "            \"threshold\": 0\n",
      "         },\n",
      "         {\n",
      "            \"name\": \"Dave\",\n",
      "            \"destination\": \"lno1qgsqvgnwgcg35z6ee2h3yczraddm72xrfua9uve2rlrm9deu7xyfzrc2p368xv6kxg6k2w2c8pc8293pqfuhd5s96s38hl9svuyulalxxq5cz2sd7tz062sfe4chntf3v4v6c\",\n",
      "            \"split\": 1,\n",
      "            \"type\": \"bolt12\",\n",
      "            \"outlay_msat\": null,\n",
      "            \"fees_incurred_by\": \"remote\",\n",
      "            \"threshold\": 0\n",
      "         },\n",
      "         {\n",
      "            \"name\": \"erin\",\n",
      "            \"destination\": \"lno1qgsqvgnwgcg35z6ee2h3yczraddm72xrfua9uve2rlrm9deu7xyfzrc2p36h2dmx0pqnqepetg6kv93pqfzjd89nwfavtpv7leu0n8dn2jev4cnlfzthv878jwpm022ykavp5\",\n",
      "            \"split\": 1,\n",
      "            \"type\": \"bolt12\",\n",
      "            \"outlay_msat\": null,\n",
      "            \"fees_incurred_by\": \"remote\",\n",
      "            \"threshold\": 0\n",
      "         }\n",
      "      ]\n",
      "   }\n",
      "]\n"
     ]
    }
   ],
   "source": [
    "!$l2 prism-list"
   ]
  },
  {
   "cell_type": "code",
   "execution_count": 42,
   "id": "87655b12-681c-4000-9a55-a8dffec871b8",
   "metadata": {},
   "outputs": [
    {
     "name": "stdout",
     "output_type": "stream",
     "text": [
      "{\n",
      "   \"code\": -32601,\n",
      "   \"message\": \"Unknown command 'prism-delete'\"\n",
      "}\n"
     ]
    }
   ],
   "source": [
    "delete_prism_command = f'{l2} prism-delete {prism.get(\"prism_id\")}'\n",
    "!$delete_prism_command"
   ]
  },
  {
   "cell_type": "code",
   "execution_count": 89,
   "id": "44b7ffcc-f0fd-44ed-a198-afec41167d16",
   "metadata": {},
   "outputs": [
    {
     "name": "stdout",
     "output_type": "stream",
     "text": [
      "{\n",
      "   \"prism_id\": \"2072b63d-c422-4db3-9db0-10e223bbe7f8\",\n",
      "   \"version\": \"v0.0.2\",\n",
      "   \"sdf\": \"relative\",\n",
      "   \"members\": [\n",
      "      {\n",
      "         \"name\": \"carol {SsC}\",\n",
      "         \"destination\": \"lno1qgsqvgnwgcg35z6ee2h3yczraddm72xrfua9uve2rlrm9deu7xyfzrc2p3ryvdnsxfr9qa2j89mxx93pqfx9yx7yz2utew9j8d84p975w4n6fvm0dkqsv4phexzehjkwrt2ry\",\n",
      "         \"split\": 1,\n",
      "         \"type\": \"bolt12\",\n",
      "         \"outlay_msat\": null,\n",
      "         \"fees_incurred_by\": \"remote\",\n",
      "         \"threshold\": 0\n",
      "      },\n",
      "      {\n",
      "         \"name\": \"Dave\",\n",
      "         \"destination\": \"lno1qgsqvgnwgcg35z6ee2h3yczraddm72xrfua9uve2rlrm9deu7xyfzrc2p3n8w4ek0py9wnpcw9mky93pqfuhd5s96s38hl9svuyulalxxq5cz2sd7tz062sfe4chntf3v4v6c\",\n",
      "         \"split\": 1,\n",
      "         \"type\": \"bolt12\",\n",
      "         \"outlay_msat\": null,\n",
      "         \"fees_incurred_by\": \"remote\",\n",
      "         \"threshold\": 0\n",
      "      },\n",
      "      {\n",
      "         \"name\": \"erin\",\n",
      "         \"destination\": \"lno1qgsqvgnwgcg35z6ee2h3yczraddm72xrfua9uve2rlrm9deu7xyfzrc2p3e8sum0vdcygnrxgezyy93pqfzjd89nwfavtpv7leu0n8dn2jev4cnlfzthv878jwpm022ykavp5\",\n",
      "         \"split\": 1,\n",
      "         \"type\": \"bolt12\",\n",
      "         \"outlay_msat\": null,\n",
      "         \"fees_incurred_by\": \"remote\",\n",
      "         \"threshold\": 0\n",
      "      }\n",
      "   ]\n",
      "}\n"
     ]
    }
   ],
   "source": [
    "update_prism_command = f'{l2} -k prism-update prism_id=\"{prism.get(\"prism_id\")}\" members=\\'{json.dumps(create_prism_members())}\\''\n",
    "!$update_prism_command"
   ]
  },
  {
   "cell_type": "code",
   "execution_count": 55,
   "id": "b73364b1-b1c1-445c-a89d-d65fd4ee8ed1",
   "metadata": {},
   "outputs": [
    {
     "name": "stdout",
     "output_type": "stream",
     "text": [
      "{\n",
      "   \"bolt12_bindings\": []\n",
      "}\n"
     ]
    }
   ],
   "source": [
    "!$l2 prism-bindinglist"
   ]
  },
  {
   "cell_type": "code",
   "execution_count": 58,
   "id": "73cc0bdc-224b-4d7b-a9a5-acbb7761c737",
   "metadata": {},
   "outputs": [
    {
     "name": "stdout",
     "output_type": "stream",
     "text": [
      "{\n",
      "   \"prism_id\": \"077f8010-c5b1-4c6b-923f-dd80b7233ad0\",\n",
      "   \"bolt\": \"bolt12\",\n",
      "   \"offer_ids\": []\n",
      "}\n"
     ]
    }
   ],
   "source": []
  },
  {
   "cell_type": "code",
   "execution_count": 34,
   "id": "3bfacd8a-e0ce-45da-b43b-635e17020f97",
   "metadata": {},
   "outputs": [
    {
     "name": "stdout",
     "output_type": "stream",
     "text": [
      "3b7d4a948b63777dfa58eb8727c92533dffff185ddee7f806844b3fea5e587c0\n",
      "lno1qgsqvgnwgcg35z6ee2h3yczraddm72xrfua9uve2rlrm9deu7xyfzrc2p358gunhxpxnwnfet9eyw93pq0pjn85qgrpplrv7vqe6muf8cl04dzd8cr2vk5aw5eex257fuqy82\n"
     ]
    }
   ],
   "source": [
    "get_offer = f'{l2} -k offer amount=any description={generate_random_string(12)}'\n",
    "prism_offer = !$get_offer\n",
    "prism_offer = json.loads(''.join(prism_offer))\n",
    "prism_offer_id = prism_offer.get(\"offer_id\")\n",
    "prism_bolt12 = prism_offer.get(\"bolt12\")\n",
    "\n",
    "print(prism_offer_id)\n",
    "print(prism_bolt12)"
   ]
  },
  {
   "cell_type": "code",
   "execution_count": 35,
   "id": "11f59065-5f3a-4740-9742-348b1625a6d6",
   "metadata": {},
   "outputs": [
    {
     "name": "stdout",
     "output_type": "stream",
     "text": [
      "{\n",
      "   \"status\": \"must-create\",\n",
      "   \"bind_to\": \"3b7d4a948b63777dfa58eb8727c92533dffff185ddee7f806844b3fea5e587c0\",\n",
      "   \"prism_id\": \"a9f1c094-cbc9-45c3-9632-cdcc2929caa8\",\n",
      "   \"prism_binding_key\": [\n",
      "      \"prism\",\n",
      "      \"v2\",\n",
      "      \"bind\",\n",
      "      \"bolt12\",\n",
      "      \"3b7d4a948b63777dfa58eb8727c92533dffff185ddee7f806844b3fea5e587c0\"\n",
      "   ],\n",
      "   \"prism_members\": [\n",
      "      {\n",
      "         \"member_id\": \"a8a938fa-7d81-4aae-b671-0b460cf97d9b\",\n",
      "         \"label\": \"carol {C1m}\",\n",
      "         \"destination\": \"lno1qgsqvgnwgcg35z6ee2h3yczraddm72xrfua9uve2rlrm9deu7xyfzrc2p3phswrpvfjk7ejv89e5g93pqgfjkx3qvsv22wj39220cpesvsdmsyuvegaad6wsdw7lsahrkv4sw\",\n",
      "         \"split\": 1,\n",
      "         \"fees_incurred_by\": \"remote\",\n",
      "         \"payout_threshold\": \"0msat\"\n",
      "      },\n",
      "      {\n",
      "         \"member_id\": \"11ec6990-613f-4287-9687-73b7800bd9c6\",\n",
      "         \"label\": \"Dave\",\n",
      "         \"destination\": \"lno1qgsqvgnwgcg35z6ee2h3yczraddm72xrfua9uve2rlrm9deu7xyfzrc2p339wmp4favkw5n2dpy9s93pq032lzz97ehk7fxvn4lqgdz6kmpvfw54m6dkt8ahhnn0vyxulm375\",\n",
      "         \"split\": 1,\n",
      "         \"fees_incurred_by\": \"remote\",\n",
      "         \"payout_threshold\": \"0msat\"\n",
      "      },\n",
      "      {\n",
      "         \"member_id\": \"554e038f-266e-4788-805b-ec3a41f887c9\",\n",
      "         \"label\": \"erin\",\n",
      "         \"destination\": \"lno1qgsqvgnwgcg35z6ee2h3yczraddm72xrfua9uve2rlrm9deu7xyfzrc2p3p4w6nsg4u4v4nfwe6yv93pqgmlacrhla00z62s9z8yfu5uh0s50c02lwtmaucz24qzzyaemretx\",\n",
      "         \"split\": 1,\n",
      "         \"fees_incurred_by\": \"remote\",\n",
      "         \"payout_threshold\": \"0msat\"\n",
      "      }\n",
      "   ]\n",
      "}\n"
     ]
    }
   ],
   "source": [
    "prism_id=prism.get(\"prism_id\")\n",
    "\n",
    "def bind_prism_to_offer(prism_id, offer_id):\n",
    "    bind_to = f'{l2} prism-bindingadd -k prism_id={prism_id} bind_to={offer_id}'\n",
    "    !$bind_to\n",
    "\n",
    "bind_prism_to_offer(prism_id=prism_id, offer_id=prism_offer_id)\n",
    "    "
   ]
  },
  {
   "cell_type": "code",
   "execution_count": 36,
   "id": "6b24d85d-ffd9-42cf-9574-5d228c7a81b4",
   "metadata": {},
   "outputs": [
    {
     "name": "stdout",
     "output_type": "stream",
     "text": [
      "{\n",
      "   \"offer_id\": \"3b7d4a948b63777dfa58eb8727c92533dffff185ddee7f806844b3fea5e587c0\",\n",
      "   \"prism_id\": \"a9f1c094-cbc9-45c3-9632-cdcc2929caa8\",\n",
      "   \"member_outlays\": {\n",
      "      \"a8a938fa-7d81-4aae-b671-0b460cf97d9b\": \"0msat\",\n",
      "      \"11ec6990-613f-4287-9687-73b7800bd9c6\": \"0msat\",\n",
      "      \"554e038f-266e-4788-805b-ec3a41f887c9\": \"0msat\"\n",
      "   }\n",
      "}\n"
     ]
    }
   ],
   "source": [
    "#!$l2 prism-bindinglist\n",
    "show_binding_command = f'{l2} -k prism-bindingshow bind_to={prism_offer_id}'\n",
    "!$show_binding_command"
   ]
  },
  {
   "cell_type": "code",
   "execution_count": 49,
   "id": "fd69c329-ed05-40b5-97ba-d76168a77e98",
   "metadata": {},
   "outputs": [],
   "source": [
    "def get_invoice_from_offer(lightning_cli, bolt12, amount_msat):\n",
    "    fetch_invoice = f'{lightning_cli} fetchinvoice {bolt12} {amount_msat}'\n",
    "    invoice = !$fetch_invoice\n",
    "    return json.loads(''.join(invoice)).get('invoice')\n",
    "\n",
    "invoice = get_invoice_from_offer(l1, prism_bolt12, 100000) \n",
    "\n"
   ]
  },
  {
   "cell_type": "code",
   "execution_count": 50,
   "id": "cadabf7c-5f5c-4efc-a1fa-b1fe8db83cf9",
   "metadata": {},
   "outputs": [
    {
     "name": "stdout",
     "output_type": "stream",
     "text": [
      "{\n",
      "   \"destination\": \"03c3299e8040c21f8d9e6033adf127c7df5689a7c0d4cb53aea6726553c9e00875\",\n",
      "   \"payment_hash\": \"a68227559bd02858f92f810275b467d40fbd5d841a95959cf10a62bb0389a882\",\n",
      "   \"created_at\": 1713931260.521324945,\n",
      "   \"parts\": 1,\n",
      "   \"amount_msat\": 100000,\n",
      "   \"amount_sent_msat\": 100000,\n",
      "   \"payment_preimage\": \"cebc1f4e4193fdd8db4cb1a6ae53d91349f296bba71cffa232c597eecc0007af\",\n",
      "   \"status\": \"complete\"\n",
      "}\n"
     ]
    }
   ],
   "source": [
    "def pay_invoice(lightning_cli, invoice):\n",
    "    pay_invoice = f'{lightning_cli} pay {invoice}'\n",
    "    !$pay_invoice\n",
    "\n",
    "pay_invoice(l1, invoice)"
   ]
  },
  {
   "cell_type": "raw",
   "id": "68fbb18a-f453-47e4-9bde-99dfaa09afb3",
   "metadata": {},
   "source": [
    "def pay_prism(lightning_cli, prism_id, amount_msat):\n",
    "    pay = f'{lightning_cli} prism-pay {prism_id} {amount_msat}'\n",
    "    !$pay\n",
    "\n",
    "pay_prism(l2, prism_id, 100000)"
   ]
  },
  {
   "cell_type": "code",
   "execution_count": 51,
   "id": "266b2089-c602-4185-83a9-d74a58a3e012",
   "metadata": {},
   "outputs": [
    {
     "name": "stdout",
     "output_type": "stream",
     "text": [
      "{\n",
      "   \"prism_member_payouts\": {\n",
      "      \"a8a938fa-7d81-4aae-b671-0b460cf97d9b\": {\n",
      "         \"destination\": \"02132b1a206418a53a512a94fc0730641bb8138cca3bd6e9d06bbdf876e3b32b07\",\n",
      "         \"payment_hash\": \"91aa3c76c72f46d088295f329fb89a583abbd548d3a1748b867f68cc2adcc1e8\",\n",
      "         \"created_at\": 1713932022.986966,\n",
      "         \"parts\": 1,\n",
      "         \"amount_msat\": \"33333msat\",\n",
      "         \"amount_sent_msat\": \"33333msat\",\n",
      "         \"payment_preimage\": \"4b029b41c7244d71b7ea930b38594446274b384039c607919911006c7324613a\",\n",
      "         \"status\": \"complete\"\n",
      "      },\n",
      "      \"11ec6990-613f-4287-9687-73b7800bd9c6\": {\n",
      "         \"destination\": \"03e2af8845f66f6f24cc9d7e04345ab6c2c4ba95de9b659fb7bce6f610dcfee3ea\",\n",
      "         \"payment_hash\": \"2821596cf33af4f092f89895b7c7f4b3062c6cc06dc572b7326e0cdeb5dd1cb0\",\n",
      "         \"created_at\": 1713932023.9246294,\n",
      "         \"parts\": 1,\n",
      "         \"amount_msat\": \"33333msat\",\n",
      "         \"amount_sent_msat\": \"33333msat\",\n",
      "         \"payment_preimage\": \"0a9905c8359c96f0f09b523c36270a2c4d896e26d1401e3049f9f24299e2347a\",\n",
      "         \"status\": \"complete\"\n",
      "      },\n",
      "      \"554e038f-266e-4788-805b-ec3a41f887c9\": {\n",
      "         \"destination\": \"0237fee077ff5ef16950288e44f29cbbe147e1eafb97bef30255402113b9d8f2b3\",\n",
      "         \"payment_hash\": \"a0f05a82cfc3d0d3840afa044e20b90e48317cf34555bcc033e51a8fbf79b5e4\",\n",
      "         \"created_at\": 1713932024.8518887,\n",
      "         \"parts\": 1,\n",
      "         \"amount_msat\": \"33333msat\",\n",
      "         \"amount_sent_msat\": \"33333msat\",\n",
      "         \"payment_preimage\": \"807d7998aaf532c65c78d3eae4acaf3e492138b8078e28600e8dfcdbfce973d4\",\n",
      "         \"status\": \"complete\"\n",
      "      }\n",
      "   }\n",
      "}\n"
     ]
    }
   ],
   "source": [
    "def pay_prism(lightning_cli, prism_id, amount_msat):\n",
    "    pay = f'{lightning_cli} prism-pay {prism_id} {amount_msat}'\n",
    "    !$pay\n",
    "\n",
    "pay_prism(l2, prism_id, 100000)"
   ]
  },
  {
   "cell_type": "code",
   "execution_count": null,
   "id": "f3bcfbfa-214c-4acd-a116-4edc05ddf9c7",
   "metadata": {},
   "outputs": [],
   "source": []
  }
 ],
 "metadata": {
  "kernelspec": {
   "display_name": "Python 3 (ipykernel)",
   "language": "python",
   "name": "python3"
  },
  "language_info": {
   "codemirror_mode": {
    "name": "ipython",
    "version": 3
   },
   "file_extension": ".py",
   "mimetype": "text/x-python",
   "name": "python",
   "nbconvert_exporter": "python",
   "pygments_lexer": "ipython3",
   "version": "3.11.7"
  }
 },
 "nbformat": 4,
 "nbformat_minor": 5
}
